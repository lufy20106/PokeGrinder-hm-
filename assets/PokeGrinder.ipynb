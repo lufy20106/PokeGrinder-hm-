{
 "cells": [
  {
   "cell_type": "markdown",
   "metadata": {
    "id": "S-bflJZTMmie"
   },
   "source": [
    "### Clone the GitHub repository"
   ]
  },
  {
   "cell_type": "code",
   "execution_count": null,
   "metadata": {
    "colab": {
     "base_uri": "https://localhost:8080/"
    },
    "id": "XpW0TJ34Lm_h",
    "outputId": "27f5bf49-e6c5-447a-8c88-c31a5d7d3399"
   },
   "outputs": [],
   "source": [
    "!git clone https://github.com/lufy20106/PokeGrinder-hm-.git\n",
    "%cd PokeGrinder-hm-"
   ]
  },
  {
   "cell_type": "markdown",
   "metadata": {
    "id": "sLd8UlBRM9iJ"
   },
   "source": [
    "### Install requirements"
   ]
  },
  {
   "cell_type": "code",
   "execution_count": null,
   "metadata": {
    "colab": {
     "base_uri": "https://localhost:8080/"
    },
    "id": "vSlUM2O7M1nV",
    "outputId": "3491c2a5-3c48-4cb3-94e0-bfe6668f3713"
   },
   "outputs": [],
   "source": [
    "!python -m pip install rich~=13.7.0 ultralytics~=8.1.9 pillow~=10.2.0 git+https://github.com/dolfies/discord.py-self"
   ]
  },
  {
   "cell_type": "markdown",
   "metadata": {
    "id": "mAI5SVRPNrNy"
   },
   "source": [
    "# Now edit your config\n",
    "Please increase HuntingCooldown, FishingCooldown and RetryCooldown by a few hundred milliseconds to avoid \"Please wait\" messages.\n",
    "\n",
    "For example,\n",
    "Change \"HuntingCooldown\": 8.4 to \"HuntingCooldown\": 8.9\n",
    "And save this to your drive for next time use"
   ]
  },
  {
   "cell_type": "code",
   "execution_count": null,
   "metadata": {},
   "outputs": [],
   "source": [
    "#Please use True and False here\n",
    "config = {\n",
    "  \"CaptchaRetries\": 5,\n",
    "  \"ClearConsole\": False,\n",
    "  \"CaptchaSolver\": True,\n",
    "  \"LoggingInterval\": 10,\n",
    "  \"SuspicionAvoidance\": 250,\n",
    "  \"Cooldowns\": {\n",
    "    \"RetryCooldown\": 3,\n",
    "    \"HuntingCooldown\": 8.8,\n",
    "    \"FishingCooldown\": 22.5\n",
    "  },\n",
    "  \"\": {\n",
    "    \"HuntingChannel\": 0,\n",
    "    \"FishingChannel\": 0,\n",
    "    \"Balls\": {\n",
    "      \"Common\": \"pb\",\n",
    "      \"Uncommon\": \"pb\",\n",
    "      \"Rare\": \"gb\",\n",
    "      \"Super Rare\": \"ub\",\n",
    "      \"Legendary\": \"mb\",\n",
    "      \"Shiny\": \"mb\",\n",
    "      \"Shiny Event\": \"mb\",\n",
    "      \"Shiny Full-odds\": \"prb\"\n",
    "    },\n",
    "    \"FishBalls\": {\n",
    "      \"Common\": \"pb\",\n",
    "      \"Uncommon\": \"gb\",\n",
    "      \"Rare\": \"ub\",\n",
    "      \"Super Rare\": \"ub\",\n",
    "      \"Legendary\": \"db\",\n",
    "      \"Shiny\": \"mb\",\n",
    "      \"Golden\": \"mb\"\n",
    "    },\n",
    "    \"AutoBuy\": {\n",
    "      \"pb\": 100,\n",
    "      \"gb\": 50,\n",
    "      \"ub\": 5,\n",
    "      \"mb\": 1\n",
    "    },\n",
    "    \"AutoReleaseDuplicates\": 100\n",
    "  },\n",
    "  \"\": {\n",
    "    \"HuntingChannel\": 0,\n",
    "    \"FishingChannel\": 0,\n",
    "    \"Balls\": {\n",
    "      \"Common\": \"pb\",\n",
    "      \"Uncommon\": \"pb\",\n",
    "      \"Rare\": \"gb\",\n",
    "      \"Super Rare\": \"ub\",\n",
    "      \"Legendary\": \"mb\",\n",
    "      \"Shiny\": \"mb\",\n",
    "      \"Shiny Event\": \"mb\",\n",
    "      \"Shiny Full-odds\": \"prb\"\n",
    "    },\n",
    "    \"FishBalls\": {\n",
    "      \"Common\": \"pb\",\n",
    "      \"Uncommon\": \"gb\",\n",
    "      \"Rare\": \"ub\",\n",
    "      \"Super Rare\": \"ub\",\n",
    "      \"Legendary\": \"db\",\n",
    "      \"Shiny\": \"mb\",\n",
    "      \"Golden\": \"mb\"\n",
    "    },\n",
    "    \"AutoBuy\": {\n",
    "      \"pb\": 50,\n",
    "      \"gb\": 25,\n",
    "      \"ub\": 5,\n",
    "      \"mb\": 1\n",
    "    },\n",
    "    \"AutoReleaseDuplicates\": 100\n",
    "  }\n",
    "}\n",
    "import json\n",
    "with open(\"config.json\", \"w\") as f:\n",
    "    json.dump(config, f, indent=4)"
   ]
  },
  {
   "cell_type": "markdown",
   "metadata": {
    "collapsed": false
   },
   "source": [
    "# Run PokeGrinder"
   ]
  },
  {
   "cell_type": "code",
   "execution_count": null,
   "metadata": {
    "colab": {
     "base_uri": "https://localhost:8080/"
    },
    "id": "IYQ6coDDNo0Z",
    "outputId": "06e3b533-d0ee-4cb0-8c72-4f1614f45546"
   },
   "outputs": [],
   "source": [
    "!python main.py"
   ]
  }
 ],
 "metadata": {
  "colab": {
   "provenance": []
  },
  "kernelspec": {
   "display_name": "Python 3",
   "name": "python3"
  },
  "language_info": {
   "name": "python"
  }
 },
 "nbformat": 4,
 "nbformat_minor": 0
}
